{
 "cells": [
  {
   "cell_type": "code",
   "execution_count": 1,
   "metadata": {},
   "outputs": [],
   "source": [
    "from utils import item"
   ]
  },
  {
   "cell_type": "code",
   "execution_count": 2,
   "metadata": {},
   "outputs": [],
   "source": [
    "from utils.dimensions import ureg"
   ]
  },
  {
   "cell_type": "code",
   "execution_count": 3,
   "metadata": {},
   "outputs": [],
   "source": [
    "one_kg = ureg.kilogram * 1"
   ]
  },
  {
   "cell_type": "code",
   "execution_count": 4,
   "metadata": {},
   "outputs": [],
   "source": [
    "ten_cm = ureg.centimeter * 10\n",
    "twenty_cm = ureg.centimeter * 20"
   ]
  },
  {
   "cell_type": "code",
   "execution_count": 5,
   "metadata": {},
   "outputs": [],
   "source": [
    "from utils.dimensions import SpatialDimensions"
   ]
  },
  {
   "cell_type": "code",
   "execution_count": 6,
   "metadata": {},
   "outputs": [],
   "source": [
    "a = item.Item(SKU=\"itemA\", weight=one_kg, dimensions=SpatialDimensions(length=ten_cm, width=twenty_cm, height=ten_cm))"
   ]
  },
  {
   "cell_type": "code",
   "execution_count": 7,
   "metadata": {},
   "outputs": [
    {
     "data": {
      "text/plain": [
       "<utils.item.Item at 0x7f8b9cb935c0>"
      ]
     },
     "execution_count": 7,
     "metadata": {},
     "output_type": "execute_result"
    }
   ],
   "source": [
    "a"
   ]
  },
  {
   "cell_type": "code",
   "execution_count": 8,
   "metadata": {},
   "outputs": [],
   "source": [
    "b = item.Item(SKU=\"itemB\", weight=ureg.kilogram*2, dimensions=SpatialDimensions(length=ten_cm, width=twenty_cm, height=ten_cm))"
   ]
  },
  {
   "cell_type": "code",
   "execution_count": 9,
   "metadata": {},
   "outputs": [],
   "source": [
    "from typing import List, Tuple\n",
    "intra_shelve_gap = 30\n",
    "shelve_x_width = 10\n",
    "shelve_y_width = 10\n",
    "\n",
    "def generate_shelving(number_shelves) -> List[Tuple[str, int, int]]:\n",
    "    \"\"\"Create some data for shelve positions in a simple corridor of shelves\"\"\"\n",
    "    shelves = []\n",
    "    for i in range(number_shelves):\n",
    "        y_offset = i // 2 # how far along this shelve is from the start of the corridor of shelving\n",
    "        if i % 2: #even shelves\n",
    "            current_shelve = (\n",
    "                str(i),\n",
    "                shelve_x_width+intra_shelve_gap, # x pos\n",
    "                y_offset * shelve_y_width\n",
    "            )\n",
    "        else: #odd shelves\n",
    "            current_shelve = (\n",
    "                str(i),\n",
    "                0, # x pos\n",
    "                y_offset * shelve_y_width\n",
    "            )\n",
    "        shelves.append(current_shelve)\n",
    "    return shelves                "
   ]
  },
  {
   "cell_type": "code",
   "execution_count": 10,
   "metadata": {},
   "outputs": [
    {
     "data": {
      "text/plain": [
       "[('0', 0, 0),\n",
       " ('1', 40, 0),\n",
       " ('2', 0, 10),\n",
       " ('3', 40, 10),\n",
       " ('4', 0, 20),\n",
       " ('5', 40, 20)]"
      ]
     },
     "execution_count": 10,
     "metadata": {},
     "output_type": "execute_result"
    }
   ],
   "source": [
    "generate_shelving(6)"
   ]
  },
  {
   "cell_type": "code",
   "execution_count": 11,
   "metadata": {},
   "outputs": [],
   "source": [
    "from utils.shelving import Shelving\n"
   ]
  },
  {
   "cell_type": "code",
   "execution_count": 12,
   "metadata": {},
   "outputs": [
    {
     "name": "stdout",
     "output_type": "stream",
     "text": [
      "('0', 0, 0)\n",
      "('1', 40, 0)\n",
      "('2', 0, 10)\n",
      "('3', 40, 10)\n",
      "('4', 0, 20)\n",
      "('5', 40, 20)\n"
     ]
    }
   ],
   "source": [
    "from utils.warehouse import Location\n",
    "shelving_positions = []\n",
    "for data in generate_shelving(6):\n",
    "    print(data)\n",
    "    location = Location(x=data[1], y=data[2], z=0)\n",
    "    example_shelf = Shelving(width=10, depth=10, label=data[0])\n",
    "    shelving_positions.append((example_shelf, location))"
   ]
  },
  {
   "cell_type": "code",
   "execution_count": 13,
   "metadata": {},
   "outputs": [
    {
     "data": {
      "text/plain": [
       "[(Shelving(label=0, width=10, depth=10), Location(x=0, y=0, x=0)),\n",
       " (Shelving(label=1, width=10, depth=10), Location(x=40, y=0, x=0)),\n",
       " (Shelving(label=2, width=10, depth=10), Location(x=0, y=10, x=0)),\n",
       " (Shelving(label=3, width=10, depth=10), Location(x=40, y=10, x=0)),\n",
       " (Shelving(label=4, width=10, depth=10), Location(x=0, y=20, x=0)),\n",
       " (Shelving(label=5, width=10, depth=10), Location(x=40, y=20, x=0))]"
      ]
     },
     "execution_count": 13,
     "metadata": {},
     "output_type": "execute_result"
    }
   ],
   "source": [
    "shelving_positions"
   ]
  },
  {
   "cell_type": "code",
   "execution_count": 15,
   "metadata": {},
   "outputs": [],
   "source": [
    "from utils.warehouse import Warehouse\n",
    "w_house = Warehouse(item_locations=shelving_positions)"
   ]
  },
  {
   "cell_type": "code",
   "execution_count": null,
   "metadata": {},
   "outputs": [],
   "source": []
  }
 ],
 "metadata": {
  "kernelspec": {
   "display_name": "Python 3",
   "language": "python",
   "name": "python3"
  },
  "language_info": {
   "codemirror_mode": {
    "name": "ipython",
    "version": 3
   },
   "file_extension": ".py",
   "mimetype": "text/x-python",
   "name": "python",
   "nbconvert_exporter": "python",
   "pygments_lexer": "ipython3",
   "version": "3.7.1"
  }
 },
 "nbformat": 4,
 "nbformat_minor": 2
}
