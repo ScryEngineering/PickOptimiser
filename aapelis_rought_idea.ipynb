{
 "cells": [
  {
   "cell_type": "code",
   "execution_count": null,
   "metadata": {},
   "outputs": [],
   "source": [
    "from random import shuffle\n",
    "from scipy.stats import zipf\n",
    "from numpy.random import choice"
   ]
  },
  {
   "cell_type": "code",
   "execution_count": null,
   "metadata": {},
   "outputs": [],
   "source": [
    "# number of pick faces\n",
    "no_pick_faces = 10\n",
    "\n",
    "# zipf's law shape parameter\n",
    "zipf_shape = 1.1\n",
    "\n",
    "# either \"random\" or \"pareto\"\n",
    "assignment = \"pareto\""
   ]
  },
  {
   "cell_type": "code",
   "execution_count": null,
   "metadata": {},
   "outputs": [],
   "source": [
    "def generate_product_probabilities_pareto(zipf_shape, products):\n",
    "    # to get wikipedia zipf from scipy zipf, just truncate\n",
    "    distribution = zipf(zipf_shape)\n",
    "    freqs = [distribution.pmf(n+1) for n in range(len(products))]\n",
    "    freqs = freqs / sum(freqs)\n",
    "    shuffle(freqs)\n",
    "\n",
    "    return dict(zip(products, freqs))"
   ]
  },
  {
   "cell_type": "code",
   "execution_count": null,
   "metadata": {},
   "outputs": [],
   "source": [
    "# assignment of products to pick faces\n",
    "def assign_products_to_pick_faces_random(products, pick_faces):\n",
    "    # random\n",
    "    pick_face_assignments = pick_faces.copy()\n",
    "    shuffle(pick_face_assignments)\n",
    "\n",
    "    product_to_pick_face = dict(zip(products, pick_face_assignments))\n",
    "    pick_face_to_product = dict(zip(product_to_pick_face.values(), product_to_pick_face.keys()))\n",
    "    \n",
    "    return product_to_pick_face, pick_face_to_product\n",
    "\n",
    "def assign_products_to_pick_faces_pareto(products, pick_faces, product_probabilities):\n",
    "    # according to freq (akin to Andrew's pareto method)\n",
    "    product_probs_for_assignment = list(product_probabilities.items())\n",
    "    product_probs_for_assignment.sort(key=lambda x: -x[1])\n",
    "    product_to_pick_face = dict(zip(map(lambda x: x[0], product_probs_for_assignment), pick_faces))\n",
    "    pick_face_to_product = dict(zip(product_to_pick_face.values(), product_to_pick_face.keys()))\n",
    "    \n",
    "    return product_to_pick_face, pick_face_to_product"
   ]
  },
  {
   "cell_type": "code",
   "execution_count": null,
   "metadata": {},
   "outputs": [],
   "source": [
    "def generate_new_order(number_of_products, product_probabilities):\n",
    "    labels, weights = zip(*product_probabilities.items())\n",
    "    return list(choice(labels, number_of_products, p=weights))"
   ]
  },
  {
   "cell_type": "code",
   "execution_count": null,
   "metadata": {},
   "outputs": [],
   "source": [
    "# the pick face labels\n",
    "pick_faces = [\"face {}\".format(n+1) for n in range(no_pick_faces)]\n",
    "\n",
    "# there's the same number of products as pick faces\n",
    "products = [\"product {}\".format(n+1) for n in range(no_pick_faces)]\n",
    "\n",
    "product_probabilities = generate_product_probabilities_pareto(zipf_shape, products)\n",
    "product_to_pick_face, pick_face_to_product = assign_products_to_pick_faces_pareto(products, pick_faces, product_probabilities)\n",
    "\n",
    "pick_faces, products, product_probabilities, product_to_pick_face, pick_face_to_product"
   ]
  },
  {
   "cell_type": "code",
   "execution_count": null,
   "metadata": {},
   "outputs": [],
   "source": [
    "generate_new_order(5, product_probabilities)"
   ]
  }
 ],
 "metadata": {
  "kernelspec": {
   "display_name": "pickoptimiser",
   "language": "python",
   "name": "pickoptimiser"
  },
  "language_info": {
   "codemirror_mode": {
    "name": "ipython",
    "version": 3
   },
   "file_extension": ".py",
   "mimetype": "text/x-python",
   "name": "python",
   "nbconvert_exporter": "python",
   "pygments_lexer": "ipython3",
   "version": "3.7.6"
  }
 },
 "nbformat": 4,
 "nbformat_minor": 4
}
