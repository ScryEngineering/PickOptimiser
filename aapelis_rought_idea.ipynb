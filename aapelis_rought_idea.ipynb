{
 "cells": [
  {
   "cell_type": "markdown",
   "metadata": {},
   "source": [
    "# First model for warehouse picking optimisation\n",
    "\n",
    "This notebook contains code to optimise the following problem.\n",
    "\n",
    "Suppose we have a warehouse with $n$ unique products, and $n$ pick faces ($n$ must be even). The pick faces are laid out as below, in a single aisle on shelves with no shelves on top of each other, with odd number increasing on the left, and even numbers increasing from bottom up on the right. The diagram is viewed from the air, looking down, and let's say up is \"north\".\n",
    "\n",
    "```\n",
    "+---+    >.....v    +---+\n",
    "|n-1|    :     :    | n |\n",
    "+---+    ^.>...v    +---+\n",
    "|   |    :     :    |   |\n",
    "\n",
    "           ...\n",
    "\n",
    "|   |    :     :    |   |\n",
    "+---+    ^.>...v    +---+\n",
    "| 7 |    :     :    | 8 |\n",
    "+---+    ^.>...v    +---+\n",
    "| 5 |    :     :    | 6 |\n",
    "+---+    ^.>...v    +---+\n",
    "| 3 |    :     :    | 4 |\n",
    "+---+    ^.>...v    +---+\n",
    "| 1 |    :     :    | 2 |\n",
    "+---+    .     v    +---+\n",
    "     @...^     :\n",
    " PC  #.<       >..Sorting\n",
    "       :         v\n",
    "       ^.........<\n",
    "```\n",
    "\n",
    "The picking procedure (a single \"pick wave\") works as follows:\n",
    "\n",
    "1. The picker starts at the PC, marked with an at sign (`@`) on the map\n",
    "2. The picker prints out a flow path from the WMS+optimiser at the computer (`PC`)\n",
    "3. The picker then starts walking up on the left hand side of the aisle, next to the odd pick faces.\n",
    "4. If the picker has nothing to pick north of the current location, they can move to the right and start picking products in even pick faces, and walk south along the right side of the aisle.\n",
    "5. Once the picker has picked all items from their shelves, they move down to the sorting facility (`Sorting` on the diagram)\n",
    "6. The picker sorts and packs all orders into their correct shipping packages, and drops them off at the same location\n",
    "7. The picker moves back to the PC and finishes at the hash sign (`#`) on the map\n",
    "\n",
    "## The cost structure\n",
    "\n",
    "We model the time taken to pick an order as the cost for this problem.\n",
    "\n",
    "It's relatively difficult to estimate the actual time taken to complete each step of a pick wave, so we leave this in a highly modular and customisable system.\n",
    "\n",
    "We basically assume the cost of a pick wave is a linear function of the following steps which may have more difficult, non-linear cost functions:\n",
    "\n",
    "* $c_{\\text{fixed}}$: A fixed cost of one pick wave (e.g. printing, moving from computer to first shelf, last shelf to sorting, sorting to computer, rest)\n",
    "* $c_{\\text{move}}$: Moving one shelf up or down the aisle (note that there are always an even number of these steps)\n",
    "* $c_{\\text{across}}$: Moving across the aisle from left to right\n",
    "* $c_{\\text{picking}}$: Picking objects from a shelf into containers, this is encoded as $p_1$, $p_2$, $\\dots$, $p_q$ where $q$ is the number of containers, and $p_i$ is the number of identical objects picked form a shelf into container $i$. The cost for this tuple is a function $c_{\\text{picking}}(q, (p_1, p_2, \\dots, p_q))$.\n",
    "* $c_{\\text{sorting}}$: Sorting objects in $q$ containers to $r$ shipping \"packages\" (note the terminology: containers are used for picking from shelves, packages for final postable boxes), this is encoded as $p_1$, $p_2$, $\\dots$, $p_q$ for the number of items in teh containers and $g_1$, $g_2$, $\\dots$, $g_r$ for the number of items in the final packages, so the cost function is $c_{\\text{sorting}}(q, r, (p_1, p_2, \\dots, p_q), (g_1, g_2, \\dots, g_r))$\n",
    "\n",
    "The total cost, $C:=c_{\\text{total}}$, is then given by the sum of these costs:\n",
    "\n",
    "$$\n",
    "C=n_{\\text{fixed}}\\times c_{\\text{fixed}}+n_{\\text{move}}\\times c_{\\text{move}}+n_{\\text{across}}\\times c_{\\text{across}}+\\sum_{q,p_1,p_2,\\dots,p_q}n_{\\text{picking}}(q, (p_1, p_2, \\dots, p_q))\\times c_{\\text{picking}}(q, (p_1, p_2, \\dots, p_q))+\\sum_{q,r,p_1,p_2,\\dots,p_q,g_1,g_2,\\dots,g_r}n_{\\text{sorting}}(q, r, (p_1, p_2, \\dots, p_q), (g_1, g_2, \\dots, g_r))\\times c_{\\text{sorting}}(q, r, (p_1, p_2, \\dots, p_q), (g_1, g_2, \\dots, g_r))\n",
    "$$\n",
    "\n",
    "Where the $n_{\\text{fixed}}$, $n_{\\text{move}}$, and $n_{\\text{across}}$ are the number of pick waves, the number of times a picker moved up or down, and the number of times a picker moved across the aisle, respectively.\n",
    "\n",
    "$n_{\\text{picking}}(q, (p_1, p_2, \\dots, p_q))$ is the number of times the same type of object was picked from a shelf into $q$ containers with the $q$ containers getting $p_1$, $p_2$, \\dots$, $p_q$ items per container.\n",
    "\n",
    "$n_{\\text{sorting}}(q, r, (p_1, p_2, \\dots, p_q), (g_1, g_2, \\dots, g_r))$ is the number of times that objects in $q$ containers with $p_i$ objects in container $i$ were sorted into $r$ packages with $g_i$ objects in package $i$.\n",
    "\n",
    "Note a possible confusion of terminology: even though the notation $p_1$, $p_2$, $\\dots$, $p_q$ is used for both picking into $q$ containers as well as sorting from these containers, these numbers are not the same. The latter is the sum of all objects picked into the container from all shelves, whereas the former is picking one of the same kind of object."
   ]
  },
  {
   "cell_type": "code",
   "execution_count": null,
   "metadata": {},
   "outputs": [],
   "source": [
    "from random import shuffle\n",
    "from scipy.stats import zipf\n",
    "from numpy.random import choice"
   ]
  },
  {
   "cell_type": "code",
   "execution_count": null,
   "metadata": {},
   "outputs": [],
   "source": [
    "# number of pick faces\n",
    "no_pick_faces = 10\n",
    "\n",
    "# zipf's law shape parameter\n",
    "zipf_shape = 1.1"
   ]
  },
  {
   "cell_type": "code",
   "execution_count": null,
   "metadata": {},
   "outputs": [],
   "source": [
    "def generate_product_probabilities_pareto(zipf_shape, products):\n",
    "    # to get wikipedia zipf from scipy zipf, just truncate\n",
    "    distribution = zipf(zipf_shape)\n",
    "    freqs = [distribution.pmf(n+1) for n in range(len(products))]\n",
    "    freqs = freqs / sum(freqs)\n",
    "    shuffle(freqs)\n",
    "\n",
    "    return dict(zip(products, freqs))"
   ]
  },
  {
   "cell_type": "code",
   "execution_count": null,
   "metadata": {},
   "outputs": [],
   "source": [
    "# assignment of products to pick faces\n",
    "def assign_products_to_pick_faces_random(products, pick_faces):\n",
    "    # random\n",
    "    pick_face_assignments = pick_faces.copy()\n",
    "    shuffle(pick_face_assignments)\n",
    "\n",
    "    product_to_pick_face = dict(zip(products, pick_face_assignments))\n",
    "    pick_face_to_product = dict(zip(product_to_pick_face.values(), product_to_pick_face.keys()))\n",
    "    \n",
    "    return product_to_pick_face, pick_face_to_product\n",
    "\n",
    "def assign_products_to_pick_faces_pareto(products, pick_faces, product_probabilities):\n",
    "    # according to freq (akin to Andrew's pareto method)\n",
    "    product_probs_for_assignment = list(product_probabilities.items())\n",
    "    product_probs_for_assignment.sort(key=lambda x: -x[1])\n",
    "    product_to_pick_face = dict(zip(map(lambda x: x[0], product_probs_for_assignment), pick_faces))\n",
    "    pick_face_to_product = dict(zip(product_to_pick_face.values(), product_to_pick_face.keys()))\n",
    "    \n",
    "    return product_to_pick_face, pick_face_to_product"
   ]
  },
  {
   "cell_type": "code",
   "execution_count": null,
   "metadata": {},
   "outputs": [],
   "source": [
    "def generate_new_order(number_of_products, product_probabilities):\n",
    "    labels, weights = zip(*product_probabilities.items())\n",
    "    return list(choice(labels, number_of_products, p=weights))"
   ]
  },
  {
   "cell_type": "code",
   "execution_count": null,
   "metadata": {},
   "outputs": [],
   "source": [
    "orders = [generate_new_order(5, product_probabilities) for n in range(50)]"
   ]
  },
  {
   "cell_type": "code",
   "execution_count": null,
   "metadata": {},
   "outputs": [],
   "source": [
    "# the pick face labels\n",
    "pick_faces = [\"face {}\".format(n+1) for n in range(no_pick_faces)]\n",
    "\n",
    "# there's the same number of products as pick faces\n",
    "products = [\"product {}\".format(n+1) for n in range(no_pick_faces)]\n",
    "\n",
    "product_probabilities = generate_product_probabilities_pareto(zipf_shape, products)\n",
    "product_to_pick_face, pick_face_to_product = assign_products_to_pick_faces_pareto(products, pick_faces, product_probabilities)\n",
    "\n",
    "pick_faces, products, product_probabilities, product_to_pick_face, pick_face_to_product"
   ]
  }
 ],
 "metadata": {
  "kernelspec": {
   "display_name": "pickoptimiser",
   "language": "python",
   "name": "pickoptimiser"
  },
  "language_info": {
   "codemirror_mode": {
    "name": "ipython",
    "version": 3
   },
   "file_extension": ".py",
   "mimetype": "text/x-python",
   "name": "python",
   "nbconvert_exporter": "python",
   "pygments_lexer": "ipython3",
   "version": "3.7.6"
  }
 },
 "nbformat": 4,
 "nbformat_minor": 4
}
